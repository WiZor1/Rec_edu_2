{
 "cells": [
  {
   "cell_type": "code",
   "execution_count": 1,
   "metadata": {},
   "outputs": [],
   "source": [
    "import pandas as pd\n",
    "import numpy as np\n",
    "import matplotlib.pyplot as plt\n",
    "%matplotlib inline\n",
    "\n",
    "# Для работы с матрицами\n",
    "from scipy.sparse import csr_matrix, coo_matrix\n",
    "\n",
    "# Матричная факторизация\n",
    "from implicit.als import AlternatingLeastSquares\n",
    "from implicit.nearest_neighbours import ItemItemRecommender\n",
    "from implicit.nearest_neighbours import bm25_weight, tfidf_weight\n",
    "\n",
    "# Модель второго уровня\n",
    "from lightgbm import LGBMClassifier\n",
    "\n",
    "from pathlib import Path\n",
    "\n",
    "# Написанные нами функции\n",
    "from metrics import precision_at_k, calc_all_precision, calc_precision\n",
    "from utils import prefilter_items, print_stats_data, get_hots_users\n",
    "from recommenders import MainRecommender"
   ]
  },
  {
   "cell_type": "code",
   "execution_count": 2,
   "metadata": {},
   "outputs": [],
   "source": [
    "DATA_PATH = Path('')\n",
    "data = pd.read_csv(DATA_PATH / 'retail_train.csv')\n",
    "item_features = pd.read_csv(DATA_PATH / 'product.csv')\n",
    "user_features = pd.read_csv(DATA_PATH / 'hh_demographic.csv')\n",
    "retail_test = pd.read_csv(DATA_PATH / 'retail_test1.csv')"
   ]
  },
  {
   "cell_type": "code",
   "execution_count": 3,
   "metadata": {
    "scrolled": true
   },
   "outputs": [
    {
     "data": {
      "text/html": [
       "<div>\n",
       "<style scoped>\n",
       "    .dataframe tbody tr th:only-of-type {\n",
       "        vertical-align: middle;\n",
       "    }\n",
       "\n",
       "    .dataframe tbody tr th {\n",
       "        vertical-align: top;\n",
       "    }\n",
       "\n",
       "    .dataframe thead th {\n",
       "        text-align: right;\n",
       "    }\n",
       "</style>\n",
       "<table border=\"1\" class=\"dataframe\">\n",
       "  <thead>\n",
       "    <tr style=\"text-align: right;\">\n",
       "      <th></th>\n",
       "      <th>user_id</th>\n",
       "      <th>basket_id</th>\n",
       "      <th>day</th>\n",
       "      <th>item_id</th>\n",
       "      <th>quantity</th>\n",
       "      <th>sales_value</th>\n",
       "      <th>store_id</th>\n",
       "      <th>retail_disc</th>\n",
       "      <th>trans_time</th>\n",
       "      <th>week_no</th>\n",
       "      <th>coupon_disc</th>\n",
       "      <th>coupon_match_disc</th>\n",
       "    </tr>\n",
       "  </thead>\n",
       "  <tbody>\n",
       "    <tr>\n",
       "      <th>0</th>\n",
       "      <td>2375</td>\n",
       "      <td>26984851472</td>\n",
       "      <td>1</td>\n",
       "      <td>1004906</td>\n",
       "      <td>1</td>\n",
       "      <td>1.39</td>\n",
       "      <td>364</td>\n",
       "      <td>-0.60</td>\n",
       "      <td>1631</td>\n",
       "      <td>1</td>\n",
       "      <td>0.0</td>\n",
       "      <td>0.0</td>\n",
       "    </tr>\n",
       "    <tr>\n",
       "      <th>1</th>\n",
       "      <td>2375</td>\n",
       "      <td>26984851472</td>\n",
       "      <td>1</td>\n",
       "      <td>1033142</td>\n",
       "      <td>1</td>\n",
       "      <td>0.82</td>\n",
       "      <td>364</td>\n",
       "      <td>0.00</td>\n",
       "      <td>1631</td>\n",
       "      <td>1</td>\n",
       "      <td>0.0</td>\n",
       "      <td>0.0</td>\n",
       "    </tr>\n",
       "    <tr>\n",
       "      <th>2</th>\n",
       "      <td>2375</td>\n",
       "      <td>26984851472</td>\n",
       "      <td>1</td>\n",
       "      <td>1036325</td>\n",
       "      <td>1</td>\n",
       "      <td>0.99</td>\n",
       "      <td>364</td>\n",
       "      <td>-0.30</td>\n",
       "      <td>1631</td>\n",
       "      <td>1</td>\n",
       "      <td>0.0</td>\n",
       "      <td>0.0</td>\n",
       "    </tr>\n",
       "    <tr>\n",
       "      <th>3</th>\n",
       "      <td>2375</td>\n",
       "      <td>26984851472</td>\n",
       "      <td>1</td>\n",
       "      <td>1082185</td>\n",
       "      <td>1</td>\n",
       "      <td>1.21</td>\n",
       "      <td>364</td>\n",
       "      <td>0.00</td>\n",
       "      <td>1631</td>\n",
       "      <td>1</td>\n",
       "      <td>0.0</td>\n",
       "      <td>0.0</td>\n",
       "    </tr>\n",
       "    <tr>\n",
       "      <th>4</th>\n",
       "      <td>2375</td>\n",
       "      <td>26984851472</td>\n",
       "      <td>1</td>\n",
       "      <td>8160430</td>\n",
       "      <td>1</td>\n",
       "      <td>1.50</td>\n",
       "      <td>364</td>\n",
       "      <td>-0.39</td>\n",
       "      <td>1631</td>\n",
       "      <td>1</td>\n",
       "      <td>0.0</td>\n",
       "      <td>0.0</td>\n",
       "    </tr>\n",
       "  </tbody>\n",
       "</table>\n",
       "</div>"
      ],
      "text/plain": [
       "   user_id    basket_id  day  item_id  quantity  sales_value  store_id  \\\n",
       "0     2375  26984851472    1  1004906         1         1.39       364   \n",
       "1     2375  26984851472    1  1033142         1         0.82       364   \n",
       "2     2375  26984851472    1  1036325         1         0.99       364   \n",
       "3     2375  26984851472    1  1082185         1         1.21       364   \n",
       "4     2375  26984851472    1  8160430         1         1.50       364   \n",
       "\n",
       "   retail_disc  trans_time  week_no  coupon_disc  coupon_match_disc  \n",
       "0        -0.60        1631        1          0.0                0.0  \n",
       "1         0.00        1631        1          0.0                0.0  \n",
       "2        -0.30        1631        1          0.0                0.0  \n",
       "3         0.00        1631        1          0.0                0.0  \n",
       "4        -0.39        1631        1          0.0                0.0  "
      ]
     },
     "execution_count": 3,
     "metadata": {},
     "output_type": "execute_result"
    }
   ],
   "source": [
    "data.head()"
   ]
  },
  {
   "cell_type": "code",
   "execution_count": 4,
   "metadata": {},
   "outputs": [
    {
     "data": {
      "text/html": [
       "<div>\n",
       "<style scoped>\n",
       "    .dataframe tbody tr th:only-of-type {\n",
       "        vertical-align: middle;\n",
       "    }\n",
       "\n",
       "    .dataframe tbody tr th {\n",
       "        vertical-align: top;\n",
       "    }\n",
       "\n",
       "    .dataframe thead th {\n",
       "        text-align: right;\n",
       "    }\n",
       "</style>\n",
       "<table border=\"1\" class=\"dataframe\">\n",
       "  <thead>\n",
       "    <tr style=\"text-align: right;\">\n",
       "      <th></th>\n",
       "      <th>PRODUCT_ID</th>\n",
       "      <th>MANUFACTURER</th>\n",
       "      <th>DEPARTMENT</th>\n",
       "      <th>BRAND</th>\n",
       "      <th>COMMODITY_DESC</th>\n",
       "      <th>SUB_COMMODITY_DESC</th>\n",
       "      <th>CURR_SIZE_OF_PRODUCT</th>\n",
       "    </tr>\n",
       "  </thead>\n",
       "  <tbody>\n",
       "    <tr>\n",
       "      <th>0</th>\n",
       "      <td>25671</td>\n",
       "      <td>2</td>\n",
       "      <td>GROCERY</td>\n",
       "      <td>National</td>\n",
       "      <td>FRZN ICE</td>\n",
       "      <td>ICE - CRUSHED/CUBED</td>\n",
       "      <td>22 LB</td>\n",
       "    </tr>\n",
       "    <tr>\n",
       "      <th>1</th>\n",
       "      <td>26081</td>\n",
       "      <td>2</td>\n",
       "      <td>MISC. TRANS.</td>\n",
       "      <td>National</td>\n",
       "      <td>NO COMMODITY DESCRIPTION</td>\n",
       "      <td>NO SUBCOMMODITY DESCRIPTION</td>\n",
       "      <td></td>\n",
       "    </tr>\n",
       "    <tr>\n",
       "      <th>2</th>\n",
       "      <td>26093</td>\n",
       "      <td>69</td>\n",
       "      <td>PASTRY</td>\n",
       "      <td>Private</td>\n",
       "      <td>BREAD</td>\n",
       "      <td>BREAD:ITALIAN/FRENCH</td>\n",
       "      <td></td>\n",
       "    </tr>\n",
       "    <tr>\n",
       "      <th>3</th>\n",
       "      <td>26190</td>\n",
       "      <td>69</td>\n",
       "      <td>GROCERY</td>\n",
       "      <td>Private</td>\n",
       "      <td>FRUIT - SHELF STABLE</td>\n",
       "      <td>APPLE SAUCE</td>\n",
       "      <td>50 OZ</td>\n",
       "    </tr>\n",
       "    <tr>\n",
       "      <th>4</th>\n",
       "      <td>26355</td>\n",
       "      <td>69</td>\n",
       "      <td>GROCERY</td>\n",
       "      <td>Private</td>\n",
       "      <td>COOKIES/CONES</td>\n",
       "      <td>SPECIALTY COOKIES</td>\n",
       "      <td>14 OZ</td>\n",
       "    </tr>\n",
       "  </tbody>\n",
       "</table>\n",
       "</div>"
      ],
      "text/plain": [
       "   PRODUCT_ID  MANUFACTURER    DEPARTMENT     BRAND            COMMODITY_DESC  \\\n",
       "0       25671             2       GROCERY  National                  FRZN ICE   \n",
       "1       26081             2  MISC. TRANS.  National  NO COMMODITY DESCRIPTION   \n",
       "2       26093            69        PASTRY   Private                     BREAD   \n",
       "3       26190            69       GROCERY   Private      FRUIT - SHELF STABLE   \n",
       "4       26355            69       GROCERY   Private             COOKIES/CONES   \n",
       "\n",
       "            SUB_COMMODITY_DESC CURR_SIZE_OF_PRODUCT  \n",
       "0          ICE - CRUSHED/CUBED                22 LB  \n",
       "1  NO SUBCOMMODITY DESCRIPTION                       \n",
       "2         BREAD:ITALIAN/FRENCH                       \n",
       "3                  APPLE SAUCE                50 OZ  \n",
       "4            SPECIALTY COOKIES                14 OZ  "
      ]
     },
     "execution_count": 4,
     "metadata": {},
     "output_type": "execute_result"
    }
   ],
   "source": [
    "item_features.head()"
   ]
  },
  {
   "cell_type": "code",
   "execution_count": 5,
   "metadata": {},
   "outputs": [
    {
     "data": {
      "text/html": [
       "<div>\n",
       "<style scoped>\n",
       "    .dataframe tbody tr th:only-of-type {\n",
       "        vertical-align: middle;\n",
       "    }\n",
       "\n",
       "    .dataframe tbody tr th {\n",
       "        vertical-align: top;\n",
       "    }\n",
       "\n",
       "    .dataframe thead th {\n",
       "        text-align: right;\n",
       "    }\n",
       "</style>\n",
       "<table border=\"1\" class=\"dataframe\">\n",
       "  <thead>\n",
       "    <tr style=\"text-align: right;\">\n",
       "      <th></th>\n",
       "      <th>AGE_DESC</th>\n",
       "      <th>MARITAL_STATUS_CODE</th>\n",
       "      <th>INCOME_DESC</th>\n",
       "      <th>HOMEOWNER_DESC</th>\n",
       "      <th>HH_COMP_DESC</th>\n",
       "      <th>HOUSEHOLD_SIZE_DESC</th>\n",
       "      <th>KID_CATEGORY_DESC</th>\n",
       "      <th>household_key</th>\n",
       "    </tr>\n",
       "  </thead>\n",
       "  <tbody>\n",
       "    <tr>\n",
       "      <th>0</th>\n",
       "      <td>65+</td>\n",
       "      <td>A</td>\n",
       "      <td>35-49K</td>\n",
       "      <td>Homeowner</td>\n",
       "      <td>2 Adults No Kids</td>\n",
       "      <td>2</td>\n",
       "      <td>None/Unknown</td>\n",
       "      <td>1</td>\n",
       "    </tr>\n",
       "    <tr>\n",
       "      <th>1</th>\n",
       "      <td>45-54</td>\n",
       "      <td>A</td>\n",
       "      <td>50-74K</td>\n",
       "      <td>Homeowner</td>\n",
       "      <td>2 Adults No Kids</td>\n",
       "      <td>2</td>\n",
       "      <td>None/Unknown</td>\n",
       "      <td>7</td>\n",
       "    </tr>\n",
       "    <tr>\n",
       "      <th>2</th>\n",
       "      <td>25-34</td>\n",
       "      <td>U</td>\n",
       "      <td>25-34K</td>\n",
       "      <td>Unknown</td>\n",
       "      <td>2 Adults Kids</td>\n",
       "      <td>3</td>\n",
       "      <td>1</td>\n",
       "      <td>8</td>\n",
       "    </tr>\n",
       "    <tr>\n",
       "      <th>3</th>\n",
       "      <td>25-34</td>\n",
       "      <td>U</td>\n",
       "      <td>75-99K</td>\n",
       "      <td>Homeowner</td>\n",
       "      <td>2 Adults Kids</td>\n",
       "      <td>4</td>\n",
       "      <td>2</td>\n",
       "      <td>13</td>\n",
       "    </tr>\n",
       "    <tr>\n",
       "      <th>4</th>\n",
       "      <td>45-54</td>\n",
       "      <td>B</td>\n",
       "      <td>50-74K</td>\n",
       "      <td>Homeowner</td>\n",
       "      <td>Single Female</td>\n",
       "      <td>1</td>\n",
       "      <td>None/Unknown</td>\n",
       "      <td>16</td>\n",
       "    </tr>\n",
       "  </tbody>\n",
       "</table>\n",
       "</div>"
      ],
      "text/plain": [
       "  AGE_DESC MARITAL_STATUS_CODE INCOME_DESC HOMEOWNER_DESC      HH_COMP_DESC  \\\n",
       "0      65+                   A      35-49K      Homeowner  2 Adults No Kids   \n",
       "1    45-54                   A      50-74K      Homeowner  2 Adults No Kids   \n",
       "2    25-34                   U      25-34K        Unknown     2 Adults Kids   \n",
       "3    25-34                   U      75-99K      Homeowner     2 Adults Kids   \n",
       "4    45-54                   B      50-74K      Homeowner     Single Female   \n",
       "\n",
       "  HOUSEHOLD_SIZE_DESC KID_CATEGORY_DESC  household_key  \n",
       "0                   2      None/Unknown              1  \n",
       "1                   2      None/Unknown              7  \n",
       "2                   3                 1              8  \n",
       "3                   4                 2             13  \n",
       "4                   1      None/Unknown             16  "
      ]
     },
     "execution_count": 5,
     "metadata": {},
     "output_type": "execute_result"
    }
   ],
   "source": [
    "user_features.head()"
   ]
  },
  {
   "cell_type": "markdown",
   "metadata": {},
   "source": [
    "Оценим плотность покупок в недельной агрегации, чтобы понять, были ли какие-нибудь периоды, которые стоит рассматривать отдельно:"
   ]
  },
  {
   "cell_type": "code",
   "execution_count": 6,
   "metadata": {
    "scrolled": true
   },
   "outputs": [
    {
     "data": {
      "image/png": "[encoded data removed]",
      "text/plain": [
       "<Figure size 1440x432 with 1 Axes>"
      ]
     },
     "metadata": {
      "needs_background": "light"
     },
     "output_type": "display_data"
    }
   ],
   "source": [
    "plt.figure(figsize=(20, 6))\n",
    "plt.hist(data.week_no, bins=data.week_no.value_counts().shape[0])\n",
    "plt.grid()\n",
    "plt.xticks(np.arange(1, data.week_no.value_counts().shape[0], 3))\n",
    "plt.show()"
   ]
  },
  {
   "cell_type": "markdown",
   "metadata": {},
   "source": [
    "Распределние получается достаточно равномерное, поэтому выделять часть датасета на отдельный анализ не имеет смысла.\n",
    "\n",
    "------\n",
    "\n",
    "Подготовим обучающие и тестовые выборки и оставим только \"горячих\" пользователей:"
   ]
  },
  {
   "cell_type": "code",
   "execution_count": 7,
   "metadata": {},
   "outputs": [
    {
     "name": "stdout",
     "output_type": "stream",
     "text": [
      "Train df\n",
      "Shape: (2396804, 12) Users: 2499 Items: 89051\n",
      "None\n",
      "------------\n",
      "Test df\n",
      "Shape: (88734, 12) Users: 1885 Items: 20497\n",
      "None\n"
     ]
    }
   ],
   "source": [
    "train_df = data.copy()\n",
    "test_df = retail_test.copy()\n",
    "\n",
    "print(print_stats_data(train_df, 'Train df'))\n",
    "print('------------')\n",
    "print(print_stats_data(test_df, 'Test df'))"
   ]
  },
  {
   "cell_type": "code",
   "execution_count": 8,
   "metadata": {
    "scrolled": true
   },
   "outputs": [
    {
     "name": "stdout",
     "output_type": "stream",
     "text": [
      "Train df\n",
      "Shape: (1531097, 13) Users: 1884 Items: 2001\n",
      "None\n",
      "------------\n",
      "Test df\n",
      "Shape: (88724, 12) Users: 1884 Items: 20496\n",
      "None\n"
     ]
    }
   ],
   "source": [
    "prep_train_df = prefilter_items(train_df, take_n_popular=2000)\n",
    "test_df, prep_train_df = get_hots_users(test_df, prep_train_df)\n",
    "\n",
    "print(print_stats_data(prep_train_df, 'Train df'))\n",
    "print('------------')\n",
    "print(print_stats_data(test_df, 'Test df'))"
   ]
  },
  {
   "cell_type": "code",
   "execution_count": 9,
   "metadata": {
    "scrolled": true
   },
   "outputs": [
    {
     "data": {
      "text/html": [
       "<div>\n",
       "<style scoped>\n",
       "    .dataframe tbody tr th:only-of-type {\n",
       "        vertical-align: middle;\n",
       "    }\n",
       "\n",
       "    .dataframe tbody tr th {\n",
       "        vertical-align: top;\n",
       "    }\n",
       "\n",
       "    .dataframe thead th {\n",
       "        text-align: right;\n",
       "    }\n",
       "</style>\n",
       "<table border=\"1\" class=\"dataframe\">\n",
       "  <thead>\n",
       "    <tr style=\"text-align: right;\">\n",
       "      <th></th>\n",
       "      <th>user_id</th>\n",
       "      <th>actual</th>\n",
       "    </tr>\n",
       "  </thead>\n",
       "  <tbody>\n",
       "    <tr>\n",
       "      <th>0</th>\n",
       "      <td>1</td>\n",
       "      <td>[880007, 883616, 931136, 938004, 940947, 94726...</td>\n",
       "    </tr>\n",
       "    <tr>\n",
       "      <th>1</th>\n",
       "      <td>2</td>\n",
       "      <td>[820165, 820291, 826784, 826835, 829009, 85784...</td>\n",
       "    </tr>\n",
       "    <tr>\n",
       "      <th>2</th>\n",
       "      <td>3</td>\n",
       "      <td>[827683, 908531, 989069, 1071377, 1080155, 109...</td>\n",
       "    </tr>\n",
       "    <tr>\n",
       "      <th>3</th>\n",
       "      <td>6</td>\n",
       "      <td>[956902, 960791, 1037863, 1119051, 1137688, 84...</td>\n",
       "    </tr>\n",
       "    <tr>\n",
       "      <th>4</th>\n",
       "      <td>7</td>\n",
       "      <td>[847270, 855557, 859987, 863407, 895454, 90663...</td>\n",
       "    </tr>\n",
       "  </tbody>\n",
       "</table>\n",
       "</div>"
      ],
      "text/plain": [
       "   user_id                                             actual\n",
       "0        1  [880007, 883616, 931136, 938004, 940947, 94726...\n",
       "1        2  [820165, 820291, 826784, 826835, 829009, 85784...\n",
       "2        3  [827683, 908531, 989069, 1071377, 1080155, 109...\n",
       "3        6  [956902, 960791, 1037863, 1119051, 1137688, 84...\n",
       "4        7  [847270, 855557, 859987, 863407, 895454, 90663..."
      ]
     },
     "execution_count": 9,
     "metadata": {},
     "output_type": "execute_result"
    }
   ],
   "source": [
    "results = test_df.groupby('user_id')['item_id'].unique().reset_index()\n",
    "results.columns = ['user_id', 'actual']\n",
    "results.head()"
   ]
  },
  {
   "cell_type": "code",
   "execution_count": 10,
   "metadata": {},
   "outputs": [],
   "source": [
    "def results_clean():\n",
    "    columns = [clm for clm in results.columns if clm not in ['user_id', 'actual']]\n",
    "    results.drop(columns=columns, inplace=True)"
   ]
  },
  {
   "cell_type": "markdown",
   "metadata": {},
   "source": [
    "Протестируем различные варианты бейзлайнов и определим, что можно использовать для дальнейшей максимазиации метрики:"
   ]
  },
  {
   "cell_type": "code",
   "execution_count": 86,
   "metadata": {},
   "outputs": [
    {
     "data": {
      "application/vnd.jupyter.widget-view+json": {
       "model_id": "47326b1157a840cebd1b262f8d45d32b",
       "version_major": 2,
       "version_minor": 0
      },
      "text/plain": [
       "HBox(children=(HTML(value=''), FloatProgress(value=0.0, max=15.0), HTML(value='')))"
      ]
     },
     "metadata": {},
     "output_type": "display_data"
    },
    {
     "name": "stdout",
     "output_type": "stream",
     "text": [
      "\n"
     ]
    },
    {
     "data": {
      "text/plain": [
       "[('own', 0.20583864118895756),\n",
       " ('als', 0.09044585987261136),\n",
       " ('sim_items', 0.06496815286624254),\n",
       " ('sim_users', 0.020594479830148615)]"
      ]
     },
     "execution_count": 86,
     "metadata": {},
     "output_type": "execute_result"
    }
   ],
   "source": [
    "model = MainRecommender(prep_train_df, agg_f='count')\n",
    "\n",
    "results['own'] = results.user_id.apply(lambda row: model.get_own_recommendations(row, N=5))\n",
    "results['als'] = results.user_id.apply(lambda row: model.get_als_recommendations(row, N=5))\n",
    "results['sim_items'] = results.user_id.apply(lambda row: model.get_similar_items_recommendation(row, N=5))\n",
    "results['sim_users'] = results.user_id.apply(lambda row: model.get_similar_users_recommendation(row, N=5))\n",
    "\n",
    "sorted(calc_all_precision(results, 5), key=lambda x: x[1], reverse=True)"
   ]
  },
  {
   "cell_type": "markdown",
   "metadata": {},
   "source": [
    "С достаточно большим отрывом рекомендация собственных покупок лидирует по сравнению с остальными алгоритмами и подходами, поэтому предлагается развивать именно ее.\n",
    "\n",
    "*P.S. Так как не было выдвинуто никаких ограничений по бизнес результату, то можно выбрать рекомендацию собственных покупок, однако на практике вряд ли только такой подход будет полезен, т.к. пользователь и так покупал товар, который ему будут рекомендовать (и без рекомендаций скорее всего будет его покупать). Можно лишь иногда напоминать ему о том, что он еще есть в магазине, но не полностью составлять рекомендации из них.*"
   ]
  },
  {
   "cell_type": "markdown",
   "metadata": {},
   "source": [
    "-------\n",
    "\n",
    "Можно попробовать улучшить метрику путем замены агрегационной функции и дальнейших ее преобразований:"
   ]
  },
  {
   "cell_type": "code",
   "execution_count": 87,
   "metadata": {},
   "outputs": [
    {
     "data": {
      "text/plain": [
       "[('own_cnt', 0.20583864118895756), ('own_sum', 0.19819532908704693)]"
      ]
     },
     "execution_count": 87,
     "metadata": {},
     "output_type": "execute_result"
    }
   ],
   "source": [
    "results_clean()\n",
    "\n",
    "model = MainRecommender(prep_train_df, agg_f='count', only_own_rec=True)\n",
    "results['own_cnt'] = results.user_id.apply(lambda row: model.get_own_recommendations(row, N=5))\n",
    "\n",
    "model = MainRecommender(prep_train_df, only_own_rec=True)\n",
    "results['own_sum'] = results.user_id.apply(lambda row: model.get_own_recommendations(row, N=5))\n",
    "\n",
    "sorted(calc_all_precision(results, 5), key=lambda x: x[1], reverse=True)"
   ]
  },
  {
   "cell_type": "markdown",
   "metadata": {},
   "source": [
    "Как видно, сам по себе переход на сумму ничего хорошего не дал, однако он открывает возможность к некоторым новым подходам:\n",
    "\n",
    "* логарифмирование количества покупок для устранения сильного влияния больших единичных партий\n",
    "* учет количества покупок пользователей и их давности (ввод уменьшающего коэффициента, зависящего от давности совершенной транзакции)"
   ]
  },
  {
   "cell_type": "markdown",
   "metadata": {},
   "source": [
    "Реализуем первый подход:"
   ]
  },
  {
   "cell_type": "code",
   "execution_count": 88,
   "metadata": {},
   "outputs": [
    {
     "data": {
      "text/plain": [
       "[('own_cnt', 0.20583864118895756),\n",
       " ('own_sum', 0.19819532908704693),\n",
       " ('own_log_sum', 0.13906581740976548)]"
      ]
     },
     "execution_count": 88,
     "metadata": {},
     "output_type": "execute_result"
    }
   ],
   "source": [
    "model = MainRecommender(prep_train_df, only_own_rec=True, log_quantity=True)\n",
    "results['own_log_sum'] = results.user_id.apply(lambda row: model.get_own_recommendations(row, N=5))\n",
    "\n",
    "sorted(calc_all_precision(results, 5), key=lambda x: x[1], reverse=True)"
   ]
  },
  {
   "cell_type": "markdown",
   "metadata": {},
   "source": [
    "Логарифмирование суммы покупок не привело к улучшению метрики, поэтому оптимизацией в этом направлении скорее всего заниматься не стоит.\n",
    "\n",
    "Проверим второй подход, причем пробежим по разным корректирующим коэффициентам для:"
   ]
  },
  {
   "cell_type": "code",
   "execution_count": 93,
   "metadata": {},
   "outputs": [
    {
     "name": "stdout",
     "output_type": "stream",
     "text": [
      "10 0.17961783439490236\n",
      "20 0.19129511677282166\n",
      "30 0.1971337579617813\n",
      "40 0.2005307855626306\n",
      "50 0.20467091295116568\n",
      "60 0.20424628450105958\n",
      "70 0.20424628450105964\n",
      "80 0.2037154989384271\n",
      "90 0.2036093418259005\n",
      "100 0.2041401273885331\n",
      "Wall time: 1min 47s\n"
     ]
    }
   ],
   "source": [
    "%%time\n",
    "\n",
    "results_clean()\n",
    "\n",
    "score_dict = dict()\n",
    "\n",
    "for koef in range(10, 101, 10):\n",
    "    prep_train_df = prefilter_items(train_df, take_n_popular=2000)\n",
    "    test_df, prep_train_df = get_hots_users(test_df, prep_train_df)\n",
    "    prep_train_df.quantity = np.exp(-(data.week_no.max() - data.week_no) / koef) * prep_train_df.quantity\n",
    "    model = MainRecommender(prep_train_df, weighting=True, only_own_rec=True)\n",
    "    results['log_koef_if_' + str(var)] = results.user_id.apply(lambda row: model.get_own_recommendations(row, N=5))\n",
    "    score = calc_precision(results, 5, 'log_koef_if_' + str(var))\n",
    "    score_dict[koef] = score\n",
    "    print(koef, score)\n"
   ]
  },
  {
   "cell_type": "code",
   "execution_count": 98,
   "metadata": {},
   "outputs": [
    {
     "data": {
      "image/png": "[encoded data removed]",
      "text/plain": [
       "<Figure size 1008x360 with 1 Axes>"
      ]
     },
     "metadata": {
      "needs_background": "light"
     },
     "output_type": "display_data"
    }
   ],
   "source": [
    "plt.figure(figsize=(14, 5))\n",
    "plt.plot(score_dict.keys(), score_dict.values())\n",
    "plt.title('Зависимость precision от коэффициента давности покупки')\n",
    "plt.ylabel('precision')\n",
    "plt.xlabel('koef')\n",
    "plt.xticks(range(10, 101, 10))\n",
    "plt.grid()\n",
    "plt.show()"
   ]
  },
  {
   "cell_type": "markdown",
   "metadata": {},
   "source": [
    "Результат получился лучше, чем с базовой суммой, но практически равен бейзлайну, поэтому можно попробовать их объединить и выбрать уже из полученного наилучший:"
   ]
  },
  {
   "cell_type": "code",
   "execution_count": 99,
   "metadata": {},
   "outputs": [
    {
     "name": "stdout",
     "output_type": "stream",
     "text": [
      "10 0.20159235668789613\n",
      "20 0.20318471337579427\n",
      "30 0.20403397027600612\n",
      "40 0.20806794055201466\n",
      "50 0.20870488322717395\n",
      "60 0.20891719745222687\n",
      "70 0.2095541401273861\n",
      "80 0.21019108280254534\n",
      "90 0.20881104033970038\n",
      "100 0.2087048832271739\n",
      "Wall time: 1min 43s\n"
     ]
    }
   ],
   "source": [
    "%%time\n",
    "\n",
    "results_clean()\n",
    "\n",
    "score_dict = dict()\n",
    "\n",
    "for koef in range(10, 101, 10):\n",
    "    prep_train_df = prefilter_items(train_df, take_n_popular=2000)\n",
    "    test_df, prep_train_df = get_hots_users(test_df, prep_train_df)\n",
    "    prep_train_df.quantity = np.exp(-(data.week_no.max() - data.week_no) / koef)\n",
    "    model = MainRecommender(prep_train_df, weighting=True, only_own_rec=True)\n",
    "    results['log_koef_if_' + str(var)] = results.user_id.apply(lambda row: model.get_own_recommendations(row, N=5))\n",
    "    score = calc_precision(results, 5, 'log_koef_if_' + str(var))\n",
    "    score_dict[koef] = score\n",
    "    print(koef, score)"
   ]
  },
  {
   "cell_type": "code",
   "execution_count": 101,
   "metadata": {
    "scrolled": true
   },
   "outputs": [
    {
     "data": {
      "image/png": "[encoded data removed]",
      "text/plain": [
       "<Figure size 1008x360 with 1 Axes>"
      ]
     },
     "metadata": {
      "needs_background": "light"
     },
     "output_type": "display_data"
    }
   ],
   "source": [
    "plt.figure(figsize=(14, 5))\n",
    "plt.plot(score_dict.keys(), score_dict.values())\n",
    "plt.title('Зависимость precision от коэффициента давности покупки (количество)')\n",
    "plt.ylabel('precision')\n",
    "plt.xlabel('количество товаров')\n",
    "plt.xticks(range(10, 101, 10))\n",
    "plt.grid()\n",
    "plt.show()"
   ]
  },
  {
   "cell_type": "markdown",
   "metadata": {},
   "source": [
    "Метрика действительно улучшилась. И что важно - она теперь превышает бейзлайн (**0.20584**) в точке максимума (**0.21019**).\n",
    "\n",
    "Далее выберем оптимальное количество по пулу рекомендуемых товаров:"
   ]
  },
  {
   "cell_type": "code",
   "execution_count": 111,
   "metadata": {},
   "outputs": [
    {
     "name": "stdout",
     "output_type": "stream",
     "text": [
      "500 0.2553078556263249\n",
      "1000 0.22887473460721652\n",
      "1500 0.21868365180466884\n",
      "2000 0.21019108280254534\n",
      "2500 0.2044585987261125\n",
      "3000 0.19755838641188742\n",
      "3500 0.1918259023354544\n",
      "4000 0.18874734607218477\n",
      "4500 0.18535031847133573\n",
      "5000 0.18046709129511493\n",
      "5500 0.17547770700636764\n",
      "6000 0.17091295116772634\n",
      "Wall time: 2min 29s\n"
     ]
    }
   ],
   "source": [
    "%%time\n",
    "\n",
    "results_clean()\n",
    "\n",
    "score_dict = dict()\n",
    "\n",
    "for item_count in range(500, 6001, 500):\n",
    "    prep_train_df = prefilter_items(train_df, take_n_popular=item_count)\n",
    "    test_df, prep_train_df = get_hots_users(test_df, prep_train_df)\n",
    "    prep_train_df.quantity = np.exp(-(data.week_no.max() - data.week_no) / 80)\n",
    "    model = MainRecommender(prep_train_df, weighting=True, only_own_rec=True)\n",
    "    results['log_koef_if_' + str(var)] = results.user_id.apply(lambda row: model.get_own_recommendations(row, N=5))\n",
    "    score = calc_precision(results, 5, 'log_koef_if_' + str(var))\n",
    "    score_dict[item_count] = score\n",
    "    print(item_count, score)"
   ]
  },
  {
   "cell_type": "code",
   "execution_count": 113,
   "metadata": {},
   "outputs": [
    {
     "data": {
      "image/png": "[encoded data removed]",
      "text/plain": [
       "<Figure size 1008x360 with 1 Axes>"
      ]
     },
     "metadata": {
      "needs_background": "light"
     },
     "output_type": "display_data"
    }
   ],
   "source": [
    "plt.figure(figsize=(14, 5))\n",
    "plt.plot(score_dict.keys(), score_dict.values())\n",
    "plt.title('Зависимость precision от количества рекомендуемых товаров')\n",
    "plt.ylabel('precision')\n",
    "plt.xlabel('количество товаров')\n",
    "plt.xticks(range(500, 6001, 500))\n",
    "plt.grid()\n",
    "plt.show()"
   ]
  },
  {
   "cell_type": "markdown",
   "metadata": {},
   "source": [
    "Видна четкая тенденция на то, что чем больший ассортимент имеется для покупки (дял комендаций), тем меньше будет вероятность рекомендовать будущую покупку или угадать предпочтения пользователя. Что и логично. Поэтому для максимизации precision можно было бы выбрать наиболее маленькое значение потенциально рекомендуемых товаров, но сейчас огранчиимся хотя бы 1.5 тыс., чтобы потьенциально от модели была какая-то польза.\n",
    "\n",
    "------"
   ]
  },
  {
   "cell_type": "markdown",
   "metadata": {},
   "source": [
    "Таким образом итоговая метрика на тестовом сете в `retail_test1.csv` будет равна **0.21019**, однако при необхоидимости ее можно повысить намного больше, ослабив или убрав некоторые критерии фильтрации товаров. Таким образом удавалось повысить ее в рамках не описанных здесь экспериментов до ~0.33, но такая модель на практике скорее будет работать намного хуже тех, которые описаны выше."
   ]
  }
 ],
 "metadata": {
  "kernelspec": {
   "display_name": "Python 3",
   "language": "python",
   "name": "python3"
  },
  "language_info": {
   "codemirror_mode": {
    "name": "ipython",
    "version": 3
   },
   "file_extension": ".py",
   "mimetype": "text/x-python",
   "name": "python",
   "nbconvert_exporter": "python",
   "pygments_lexer": "ipython3",
   "version": "3.8.5"
  },
  "toc": {
   "base_numbering": 1,
   "nav_menu": {},
   "number_sections": true,
   "sideBar": true,
   "skip_h1_title": false,
   "title_cell": "Table of Contents",
   "title_sidebar": "Contents",
   "toc_cell": false,
   "toc_position": {},
   "toc_section_display": true,
   "toc_window_display": false
  }
 },
 "nbformat": 4,
 "nbformat_minor": 4
}
